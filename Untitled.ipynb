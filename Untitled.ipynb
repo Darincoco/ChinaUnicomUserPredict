{
 "cells": [
  {
   "cell_type": "code",
   "execution_count": 1,
   "id": "71807494",
   "metadata": {
    "ExecuteTime": {
     "end_time": "2021-11-12T20:14:08.372051Z",
     "start_time": "2021-11-12T20:14:08.228465Z"
    }
   },
   "outputs": [],
   "source": [
    "import numpy as np"
   ]
  },
  {
   "cell_type": "code",
   "execution_count": 2,
   "id": "a0686a76",
   "metadata": {
    "ExecuteTime": {
     "end_time": "2021-11-12T20:14:54.284188Z",
     "start_time": "2021-11-12T20:14:53.987084Z"
    }
   },
   "outputs": [
    {
     "ename": "TypeError",
     "evalue": "Cannot interpret '10' as a data type",
     "output_type": "error",
     "traceback": [
      "\u001b[1;31m---------------------------------------------------------------------------\u001b[0m",
      "\u001b[1;31mTypeError\u001b[0m                                 Traceback (most recent call last)",
      "\u001b[1;32m<ipython-input-2-7edf7dbb944b>\u001b[0m in \u001b[0;36m<module>\u001b[1;34m\u001b[0m\n\u001b[1;32m----> 1\u001b[1;33m \u001b[0ma\u001b[0m \u001b[1;33m=\u001b[0m \u001b[0mnp\u001b[0m\u001b[1;33m.\u001b[0m\u001b[0marray\u001b[0m\u001b[1;33m(\u001b[0m\u001b[1;36m0\u001b[0m\u001b[1;33m,\u001b[0m\u001b[1;36m10\u001b[0m\u001b[1;33m)\u001b[0m\u001b[1;33m\u001b[0m\u001b[1;33m\u001b[0m\u001b[0m\n\u001b[0m",
      "\u001b[1;31mTypeError\u001b[0m: Cannot interpret '10' as a data type"
     ]
    }
   ],
   "source": [
    "a = np.array(0,10)"
   ]
  }
 ],
 "metadata": {
  "kernelspec": {
   "display_name": "Python 3",
   "language": "python",
   "name": "python3"
  },
  "language_info": {
   "codemirror_mode": {
    "name": "ipython",
    "version": 3
   },
   "file_extension": ".py",
   "mimetype": "text/x-python",
   "name": "python",
   "nbconvert_exporter": "python",
   "pygments_lexer": "ipython3",
   "version": "3.8.8"
  }
 },
 "nbformat": 4,
 "nbformat_minor": 5
}
